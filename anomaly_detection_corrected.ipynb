{
 "cells": [
  {
   "cell_type": "markdown",
   "id": "cf4e73c6",
   "metadata": {},
   "source": [
    "\n",
    "# Anomaly Detection\n",
    "\n",
    "In this notebook, we present the principle of anomaly detection. First, we will\n",
    "make the distinction between outlier detection and novelty detection.\n",
    "\n",
    "## Outlier Detection\n",
    "\n",
    "Outlier detection is the task of identifying samples that are rare compared to the\n",
    "majority of the data. The samples that are rare could be called \"outliers\" or\n",
    "\"anomalies\".\n",
    "\n",
    "It is therefore important to understand that in this context, we have a contaminated\n",
    "training set on which we want to detect outliers. Therefore, the outlier detection\n",
    "algorithm can be applied in two contexts: as a preprocessing step of a supervised\n",
    "to clean the training data or as an unsupervised learning task for which we do not\n",
    "have labels but we know that the dataset is contaminated.\n",
    "\n",
    "Let's look at an example of credit card fraud:\n",
    "https://www.kaggle.com/datasets/mlg-ulb/creditcardfraud"
   ]
  },
  {
   "cell_type": "code",
   "execution_count": null,
   "id": "6d371ce7",
   "metadata": {},
   "outputs": [],
   "source": [
    "import pandas as pd\n",
    "\n",
    "df = pd.read_csv(\"data/creditcard.csv\", index_col=0)\n",
    "df.head()"
   ]
  },
  {
   "cell_type": "code",
   "execution_count": null,
   "id": "54facdca",
   "metadata": {},
   "outputs": [],
   "source": [
    "X, y = df.drop(columns=\"Class\"), df[\"Class\"]"
   ]
  },
  {
   "cell_type": "markdown",
   "id": "607522ec",
   "metadata": {},
   "source": [
    "\n",
    "We use an `IsolationForest` to detect outliers. This algorithm is based on\n",
    "randomized trees. It create random split at each node of a tree. It has the effect\n",
    "of isolating outliers early in the tree."
   ]
  },
  {
   "cell_type": "code",
   "execution_count": null,
   "id": "e8b5b6f6",
   "metadata": {},
   "outputs": [],
   "source": [
    "from sklearn.ensemble import IsolationForest\n",
    "\n",
    "outlier_detector = IsolationForest(n_estimators=100, n_jobs=-1, random_state=0)\n",
    "y_pred = outlier_detector.fit_predict(X)"
   ]
  },
  {
   "cell_type": "code",
   "execution_count": null,
   "id": "ab274263",
   "metadata": {},
   "outputs": [],
   "source": [
    "y.value_counts()"
   ]
  },
  {
   "cell_type": "markdown",
   "id": "a961d610",
   "metadata": {},
   "source": [
    "\n",
    "The forest output 1 when we have an inlier and otherwise -1. We will switch to a 0/1\n",
    "encoding to be able to compute some standard classification scores."
   ]
  },
  {
   "cell_type": "code",
   "execution_count": null,
   "id": "f3920700",
   "metadata": {},
   "outputs": [],
   "source": [
    "from collections import Counter\n",
    "\n",
    "Counter(y_pred)"
   ]
  },
  {
   "cell_type": "code",
   "execution_count": null,
   "id": "c109d42e",
   "metadata": {},
   "outputs": [],
   "source": [
    "import numpy as np\n",
    "\n",
    "y_pred = np.where(y_pred == 1, 0, 1)\n",
    "Counter(y_pred)"
   ]
  },
  {
   "cell_type": "code",
   "execution_count": null,
   "id": "2a742205",
   "metadata": {},
   "outputs": [],
   "source": [
    "from sklearn.metrics import classification_report\n",
    "\n",
    "print(classification_report(y, y_pred))"
   ]
  },
  {
   "cell_type": "markdown",
   "id": "4825b8af",
   "metadata": {},
   "source": [
    "This strategy is not very effective here. Indeed, since we have the label information,\n",
    "it would be much better to use some supervised learning approach. Here are two\n",
    "potential examples:\n",
    "\n",
    "* https://imbalanced-learn.org/dev/auto_examples/applications/plot_outlier_rejections.html#sphx-glr-auto-examples-applications-plot-outlier-rejections-py\n",
    "* https://scikit-learn.org/stable/auto_examples/miscellaneous/plot_anomaly_comparison.html#sphx-glr-auto-examples-miscellaneous-plot-anomaly-comparison-py\n",
    "\n",
    "## Novelty Detection\n",
    "\n",
    "The novelty detection context is slightly different from the outlier detection\n",
    "context. Indeed, we expect the training data not to be contaminated with some outliers.\n",
    "However, on some new set of data, we expect to have some newly and differently\n",
    "distributed data and we would like to detect them.\n",
    "\n",
    "In this context, we expect to call `fit` on the training data and apply `predict` on\n",
    "some new dataset. One potential example could be to detect if the data coming in\n",
    "production is different from the data used during the development phase."
   ]
  },
  {
   "cell_type": "code",
   "execution_count": null,
   "id": "c567e431",
   "metadata": {},
   "outputs": [],
   "source": [
    "from sklearn.datasets import make_moons, make_blobs\n",
    "\n",
    "moons, _ = make_moons(n_samples=500, noise=0.05)\n",
    "blobs, _ = make_blobs(\n",
    "    n_samples=500, centers=[(-0.75, 2.25), (1.0, 2.0)], cluster_std=0.25\n",
    ")\n",
    "X_train = np.vstack([moons, blobs])\n",
    "y_train = np.hstack(\n",
    "    [\n",
    "        np.ones(moons.shape[0], dtype=np.int8),\n",
    "        np.zeros(blobs.shape[0], dtype=np.int8),\n",
    "    ]\n",
    ")"
   ]
  },
  {
   "cell_type": "code",
   "execution_count": null,
   "id": "66981a51",
   "metadata": {},
   "outputs": [],
   "source": [
    "import matplotlib.pyplot as plt\n",
    "\n",
    "plt.scatter(X_train[:, 0], X_train[:, 1], c=y_train, alpha=0.5)\n",
    "_ = plt.title(\"Training data\")"
   ]
  },
  {
   "cell_type": "code",
   "execution_count": null,
   "id": "b43a625d",
   "metadata": {},
   "outputs": [],
   "source": [
    "rng = np.random.RandomState(0)\n",
    "moons, _ = make_moons(n_samples=500, noise=0.05)\n",
    "blobs, _ = make_blobs(\n",
    "    n_samples=500, centers=[(-0.75, 2.25), (1.0, 2.0)], cluster_std=0.25\n",
    ")\n",
    "outliers = rng.uniform(low=-3, high=3, size=(500, 2))\n",
    "X_test = np.vstack([moons, blobs, outliers])\n",
    "y_test = np.hstack(\n",
    "    [\n",
    "        np.ones(moons.shape[0], dtype=np.int8),\n",
    "        np.zeros(blobs.shape[0], dtype=np.int8),\n",
    "        rng.randint(0, 2, size=outliers.shape[0], dtype=np.int8),\n",
    "    ]\n",
    ")\n",
    "\n",
    "plt.scatter(X_test[:, 0], X_test[:, 1], c=y_test, alpha=0.5)\n",
    "_ = plt.title(\"Testing data\")"
   ]
  },
  {
   "cell_type": "code",
   "execution_count": null,
   "id": "013f07c8",
   "metadata": {},
   "outputs": [],
   "source": [
    "from sklearn.ensemble import RandomForestClassifier\n",
    "\n",
    "classifier = RandomForestClassifier(n_estimators=100, random_state=0)\n",
    "classifier.fit(X_train, y_train)\n",
    "classifier.score(X_train, y_train)"
   ]
  },
  {
   "cell_type": "code",
   "execution_count": null,
   "id": "bd210368",
   "metadata": {},
   "outputs": [],
   "source": [
    "from sklearn.inspection import DecisionBoundaryDisplay\n",
    "\n",
    "_, ax = plt.subplots()\n",
    "DecisionBoundaryDisplay.from_estimator(\n",
    "    classifier, X_train, ax=ax, alpha=0.5, response_method=\"predict\"\n",
    ")\n",
    "ax.scatter(X_train[:, 0], X_train[:, 1], c=y_train, alpha=0.5)"
   ]
  },
  {
   "cell_type": "code",
   "execution_count": null,
   "id": "85cb65ca",
   "metadata": {},
   "outputs": [],
   "source": [
    "classifier.score(X_test, y_test)\n",
    "_, ax = plt.subplots()\n",
    "DecisionBoundaryDisplay.from_estimator(\n",
    "    classifier, X_test, ax=ax, alpha=0.5, response_method=\"predict\"\n",
    ")\n",
    "ax.scatter(X_test[:, 0], X_test[:, 1], c=y_test, alpha=0.5)"
   ]
  },
  {
   "cell_type": "code",
   "execution_count": null,
   "id": "79fbcfbc",
   "metadata": {},
   "outputs": [],
   "source": [
    "novelty_dectector = IsolationForest(n_estimators=100, random_state=0)\n",
    "novelty_dectector.fit(X_train)\n",
    "y_pred = novelty_dectector.predict(X_test)"
   ]
  },
  {
   "cell_type": "code",
   "execution_count": null,
   "id": "5008eb79",
   "metadata": {},
   "outputs": [],
   "source": [
    "X_test_inliers = X_test[y_pred == 1]\n",
    "y_test_inliers = y_test[y_pred == 1]"
   ]
  },
  {
   "cell_type": "code",
   "execution_count": null,
   "id": "fb53c37f",
   "metadata": {},
   "outputs": [],
   "source": [
    "classifier.score(X_test_inliers, y_test_inliers)\n",
    "_, ax = plt.subplots()\n",
    "DecisionBoundaryDisplay.from_estimator(\n",
    "    classifier, X_test, ax=ax, alpha=0.5, response_method=\"predict\"\n",
    ")\n",
    "ax.scatter(X_test_inliers[:, 0], X_test_inliers[:, 1], c=y_test_inliers, alpha=0.5)"
   ]
  },
  {
   "cell_type": "code",
   "execution_count": null,
   "id": "623c6032",
   "metadata": {},
   "outputs": [],
   "source": []
  }
 ],
 "metadata": {
  "jupytext": {
   "cell_metadata_filter": "-all",
   "main_language": "python",
   "notebook_metadata_filter": "-all"
  }
 },
 "nbformat": 4,
 "nbformat_minor": 5
}
