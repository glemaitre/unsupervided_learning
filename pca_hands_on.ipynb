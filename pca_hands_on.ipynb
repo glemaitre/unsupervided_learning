{
 "cells": [
  {
   "cell_type": "code",
   "execution_count": null,
   "id": "c0f7a78a",
   "metadata": {},
   "outputs": [],
   "source": [
    "from pathlib import Path\n",
    "\n",
    "path_data = Path('./data/hand')"
   ]
  },
  {
   "cell_type": "code",
   "execution_count": null,
   "id": "124750bc",
   "metadata": {},
   "outputs": [],
   "source": [
    "import numpy as np\n",
    "X = np.array([\n",
    "    np.loadtxt(filename, skiprows=1)\n",
    "    for filename in sorted(path_data.glob(\"*.pts\"))\n",
    "])"
   ]
  },
  {
   "cell_type": "code",
   "execution_count": null,
   "id": "36297a6b",
   "metadata": {},
   "outputs": [],
   "source": [
    "original_shape = X.shape\n",
    "original_shape"
   ]
  },
  {
   "cell_type": "code",
   "execution_count": null,
   "id": "f0e06dfe",
   "metadata": {},
   "outputs": [],
   "source": [
    "import matplotlib.pyplot as plt\n",
    "\n",
    "for hand in X[:4]:\n",
    "    plt.scatter(hand[:, 0], hand[:, 1])\n",
    "plt.axis(\"square\")"
   ]
  },
  {
   "cell_type": "code",
   "execution_count": null,
   "id": "a3382394",
   "metadata": {},
   "outputs": [],
   "source": [
    "mean_hand = X.mean(axis=0)\n",
    "plt.scatter(mean_hand[:, 0], mean_hand[:, 1])\n",
    "plt.axis(\"square\")"
   ]
  },
  {
   "cell_type": "code",
   "execution_count": null,
   "id": "24cdb199",
   "metadata": {},
   "outputs": [],
   "source": [
    "plt.scatter(mean_hand[:, 0], mean_hand[:, 1])\n",
    "plt.scatter(hand[:, 0], hand[:, 1])\n",
    "plt.axis(\"square\")"
   ]
  },
  {
   "cell_type": "code",
   "execution_count": null,
   "id": "b777492c",
   "metadata": {},
   "outputs": [],
   "source": [
    "from scipy.spatial import procrustes\n",
    "\n",
    "xx, yy, zz = procrustes(mean_hand, X[0])"
   ]
  },
  {
   "cell_type": "code",
   "execution_count": null,
   "id": "c3f8ef08",
   "metadata": {},
   "outputs": [],
   "source": [
    "plt.scatter(xx[:, 0], xx[:, 1])\n",
    "plt.scatter(yy[:, 0], yy[:, 1])\n",
    "plt.axis(\"square\")"
   ]
  },
  {
   "cell_type": "code",
   "execution_count": null,
   "id": "06cddcfc",
   "metadata": {},
   "outputs": [],
   "source": [
    "X_registered = np.array([procrustes(mean_hand, hand)[1] for hand in X])"
   ]
  },
  {
   "cell_type": "code",
   "execution_count": null,
   "id": "ca5a0dae",
   "metadata": {},
   "outputs": [],
   "source": [
    "for hand in X_registered[:4]:\n",
    "    plt.scatter(hand[:, 0], hand[:, 1])\n",
    "plt.axis(\"square\")"
   ]
  },
  {
   "cell_type": "code",
   "execution_count": null,
   "id": "951025c4",
   "metadata": {},
   "outputs": [],
   "source": [
    "X_registered = X_registered.reshape(\n",
    "    X_registered.shape[0], np.prod(X_registered.shape[1:])\n",
    ")"
   ]
  },
  {
   "cell_type": "code",
   "execution_count": null,
   "id": "1a424b57",
   "metadata": {},
   "outputs": [],
   "source": [
    "from sklearn.decomposition import PCA\n",
    "\n",
    "pca = PCA()\n",
    "pca.fit(X_registered)"
   ]
  },
  {
   "cell_type": "code",
   "execution_count": null,
   "id": "5174d2cd",
   "metadata": {},
   "outputs": [],
   "source": [
    "mean_hand = pca.mean_.reshape(original_shape[1:])\n",
    "plt.scatter(mean_hand[:, 0], mean_hand[:, 1])\n",
    "plt.axis(\"square\")"
   ]
  },
  {
   "cell_type": "code",
   "execution_count": null,
   "id": "c5d01a84",
   "metadata": {},
   "outputs": [],
   "source": [
    "component = 0\n",
    "component_hand = pca.components_[component, :].reshape(original_shape[1:])\n",
    "l = 0.1\n",
    "\n",
    "plt.plot(mean_hand[:, 0], mean_hand[:, 1])\n",
    "plt.plot(mean_hand[:, 0] + l * component_hand[:, 0],\n",
    "         mean_hand[:, 1] + l * component_hand[:, 1])\n",
    "plt.plot(mean_hand[:, 0] - l * component_hand[:, 0],\n",
    "         mean_hand[:, 1] - l * component_hand[:, 1])\n",
    "plt.axis(\"square\")"
   ]
  },
  {
   "cell_type": "code",
   "execution_count": null,
   "id": "f0f31245",
   "metadata": {},
   "outputs": [],
   "source": [
    "n_components = 5\n",
    "fig, axs = plt.subplots(nrows=n_components, ncols=3,\n",
    "                        sharex=True, sharey=True,\n",
    "                        figsize=(7, 10))\n",
    "for cmp, ax in zip(range(n_components), axs):\n",
    "    component_hand = pca.components_[cmp, :].reshape(original_shape[1:])\n",
    "    ax[0].plot(mean_hand[:, 0], mean_hand[:, 1])\n",
    "    ax[1].plot(mean_hand[:, 0] + l * component_hand[:, 0],\n",
    "               mean_hand[:, 1] + l * component_hand[:, 1])\n",
    "    ax[2].plot(mean_hand[:, 0] - l * component_hand[:, 0],\n",
    "               mean_hand[:, 1] - l * component_hand[:, 1])\n",
    "    for x in ax:\n",
    "        x.axis(\"square\")\n",
    "\n",
    "    if cmp == 0:\n",
    "        ax[0].set_title(\"Mean hand\")\n",
    "        ax[1].set_title(\"Mean hand + lambda\")\n",
    "        ax[2].set_title(\"Mean hand - lambda\")\n",
    "    ax[0].set_ylabel(f\"#{cmp + 1} component\")"
   ]
  }
 ],
 "metadata": {
  "jupytext": {
   "cell_metadata_filter": "-all",
   "main_language": "python",
   "notebook_metadata_filter": "-all"
  }
 },
 "nbformat": 4,
 "nbformat_minor": 5
}
